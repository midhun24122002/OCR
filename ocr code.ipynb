{
 "cells": [
  {
   "cell_type": "code",
   "execution_count": 6,
   "id": "0aa5b0ac",
   "metadata": {},
   "outputs": [],
   "source": []
  },
  {
   "cell_type": "code",
   "execution_count": null,
   "id": "805f7c86",
   "metadata": {},
   "outputs": [],
   "source": []
  },
  {
   "cell_type": "code",
   "execution_count": 4,
   "id": "ae822941",
   "metadata": {},
   "outputs": [
    {
     "name": "stdout",
     "output_type": "stream",
     "text": [
      "Requirement already satisfied: fpdf in c:\\users\\arram\\anaconda3\\lib\\site-packages (1.7.2)\n",
      "Note: you may need to restart the kernel to use updated packages.\n"
     ]
    }
   ],
   "source": [
    "pip install fpdf"
   ]
  },
  {
   "cell_type": "markdown",
   "id": "b522c15b",
   "metadata": {},
   "source": [
    "# taking image from the user"
   ]
  },
  {
   "cell_type": "code",
   "execution_count": 1,
   "id": "2887f2c3",
   "metadata": {},
   "outputs": [],
   "source": [
    "import pytesseract\n",
    "from PIL import Image\n",
    "from PIL import ImageEnhance, ImageFilter\n",
    "import math\n",
    "\n",
    "# Open the image\n",
    "image = Image.open(\"C:\\\\Users\\\\arram\\\\Downloads\\\\shutterstock_668209624-1.jpg\")"
   ]
  },
  {
   "cell_type": "markdown",
   "id": "dab7f616",
   "metadata": {},
   "source": [
    "# pre processing of image"
   ]
  },
  {
   "cell_type": "markdown",
   "id": "6581903c",
   "metadata": {},
   "source": [
    "# convert image into black and white"
   ]
  },
  {
   "cell_type": "code",
   "execution_count": 2,
   "id": "22e7cbfe",
   "metadata": {},
   "outputs": [],
   "source": [
    "# Convert the image to grayscale\n",
    "bw_image = image.convert(\"L\")\n",
    "bw_image.show()"
   ]
  },
  {
   "cell_type": "markdown",
   "id": "fb164062",
   "metadata": {},
   "source": [
    "# skew detection and correction"
   ]
  },
  {
   "cell_type": "code",
   "execution_count": 4,
   "id": "36f17a86",
   "metadata": {},
   "outputs": [],
   "source": [
    "# Calculate the skew angle using Pillow's built-in method\n",
    "skew_angle = bw_image.rotate(30, expand=True).rotate(-30, expand=True).rotate(0, expand=True).getbbox()[2]\n",
    "\n",
    "# Rotate the image to correct skew\n",
    "corrected_image = bw_image.rotate(skew_angle, expand=True, fillcolor='white')\n"
   ]
  },
  {
   "cell_type": "markdown",
   "id": "c585110d",
   "metadata": {},
   "source": [
    "# cleaning image by using filters"
   ]
  },
  {
   "cell_type": "code",
   "execution_count": 5,
   "id": "528005df",
   "metadata": {},
   "outputs": [],
   "source": [
    "\n",
    "# Apply sharpness filter\n",
    "sharpened_image = image.filter(ImageFilter.SHARPEN)\n",
    "\n",
    "# Apply a filter (e.g., CONTOUR)\n",
    "filtered_image = image.filter(ImageFilter.CONTOUR)"
   ]
  },
  {
   "cell_type": "markdown",
   "id": "4f7aa10f",
   "metadata": {},
   "source": [
    "# enhancing the image "
   ]
  },
  {
   "cell_type": "code",
   "execution_count": 6,
   "id": "b6c47434",
   "metadata": {},
   "outputs": [],
   "source": [
    "# Enhance both sharpness and contrast\n",
    "sharpness_enhancer = ImageEnhance.Sharpness(image)\n",
    "contrast_enhancer = ImageEnhance.Contrast(sharpness_enhancer.enhance(1.5))\n",
    "enhanced_image = contrast_enhancer.enhance(1.5)\n"
   ]
  },
  {
   "cell_type": "markdown",
   "id": "bad2e19d",
   "metadata": {},
   "source": [
    "# deploying ocr engine"
   ]
  },
  {
   "cell_type": "code",
   "execution_count": 7,
   "id": "d6e599b9",
   "metadata": {},
   "outputs": [
    {
     "name": "stdout",
     "output_type": "stream",
     "text": [
      "23:04 94:15 PM | 5...\n",
      "\n",
      "25 parade.com/937586/, +\n",
      "\n",
      "Parade\n",
      "\n",
      "Life is a beautiful journey that is meant to\n",
      "be embraced to the fullest every day.\n",
      "However, that doesn't mean you always\n",
      "wake up ready to seize the day, and\n",
      "sometimes need a reminder that life is a\n",
      "great gift. Whether a funny quote from a\n",
      "famous celebrity or an encouraging\n",
      "message about giving it your best from a\n",
      "successful business person, we can all\n",
      "use a little motivation and inspiration\n",
      "these days via a life quote.\n",
      "\n"
     ]
    }
   ],
   "source": [
    "image = Image.open('C:\\\\Users\\\\arram\\\\Downloads\\\\bott sample icr elvish bhai.jpeg')\n",
    "\n",
    "# Perform OCR on the image\n",
    "text = pytesseract.image_to_string(image)\n",
    "\n",
    "# Print the extracted text\n",
    "print(text)"
   ]
  },
  {
   "cell_type": "markdown",
   "id": "9413bf03",
   "metadata": {},
   "source": [
    "# pdf conversion"
   ]
  },
  {
   "cell_type": "code",
   "execution_count": 2,
   "id": "6c146dc5",
   "metadata": {},
   "outputs": [
    {
     "name": "stdout",
     "output_type": "stream",
     "text": [
      "23:04 94:15 PM | 5...\n",
      "\n",
      "25 parade.com/937586/, +\n",
      "\n",
      "Parade\n",
      "\n",
      "Life is a beautiful journey that is meant to\n",
      "be embraced to the fullest every day.\n",
      "However, that doesn't mean you always\n",
      "wake up ready to seize the day, and\n",
      "sometimes need a reminder that life is a\n",
      "great gift. Whether a funny quote from a\n",
      "famous celebrity or an encouraging\n",
      "message about giving it your best from a\n",
      "successful business person, we can all\n",
      "use a little motivation and inspiration\n",
      "these days via a life quote.\n",
      "\n",
      "PDF file created successfully!\n"
     ]
    }
   ],
   "source": [
    "import pytesseract\n",
    "from PIL import Image\n",
    "\n",
    "image = Image.open('C:\\\\Users\\\\arram\\\\Downloads\\\\bott sample icr elvish bhai.jpeg')\n",
    "\n",
    "# Perform OCR on the image\n",
    "text = pytesseract.image_to_string(image)\n",
    "\n",
    "# Print the extracted text\n",
    "print(text)\n",
    "# Python program to create\n",
    "# a pdf file\n",
    "\n",
    "\n",
    "from fpdf import FPDF\n",
    "\n",
    "\n",
    "\n",
    "# Create a PDF document\n",
    "pdf = FPDF()\n",
    "pdf.add_page()\n",
    "\n",
    "# Set font for the PDF\n",
    "pdf.set_font(\"Arial\", size=12)\n",
    "\n",
    "# Add a page title\n",
    "pdf.cell(200, 10, txt=text, ln=True, align=\"C\")\n",
    "\n",
    "# Add the extracted text to the PDF\n",
    "pdf.multi_cell(0, 10, txt=text)\n",
    "\n",
    "# Save the PDF to a file\n",
    "pdf.output(\"life is beautiful output.pdf\")\n",
    "\n",
    "print(\"PDF file created successfully!\")\n"
   ]
  },
  {
   "cell_type": "markdown",
   "id": "0a010956",
   "metadata": {},
   "source": [
    "# performance evaluation"
   ]
  },
  {
   "cell_type": "code",
   "execution_count": 5,
   "id": "3c0f437e",
   "metadata": {},
   "outputs": [
    {
     "name": "stdout",
     "output_type": "stream",
     "text": [
      "Character Accuracy (CA): 100.00%\n",
      "Word Accuracy (WA): 100.00%\n",
      "F-measure: 1.00\n"
     ]
    }
   ],
   "source": [
    "import Levenshtein  # You may need to install this package using 'pip install python-Levenshtein'\n",
    "\n",
    "# Ground truth text for the documents\n",
    "ground_truth = [\"Life is a beautiful journey that is meant to be embraced to the fullest every day.However, that doesn't mean you always wake up ready to seize the day, and sometimes need a reminder that life is agreat gift. Whether a funny quote from a famous celebrity or an encouraging message about giving it your best from a successful business person, we can all use a little motivation and inspiration these days via a life quote.\" ]\n",
    "\n",
    "# OCR results for the same documents\n",
    "ocr_results = [\"Life is a beautiful journey that is meant to be embraced to the fullest every day.However, that doesn't mean you always wake up ready to seize the day, and sometimes need a reminder that life is agreat gift. Whether a funny quote from a famous celebrity or an encouraging message about giving it your best from a successful business person, we can all use a little motivation and inspiration these days via a life quote.\" ]\n",
    "\n",
    "# Initialize variables to keep track of character and word counts\n",
    "total_characters = 0\n",
    "correct_characters = 0\n",
    "total_words = 0\n",
    "correct_words = 0\n",
    "\n",
    "# Calculate accuracy metrics\n",
    "for gt_text, ocr_text in zip(ground_truth, ocr_results):\n",
    "    # Character Accuracy (CA)\n",
    "    total_characters += len(gt_text)\n",
    "    correct_characters += sum(1 for a, b in zip(gt_text, ocr_text) if a == b)\n",
    "\n",
    "    # Word Accuracy (WA)\n",
    "    gt_words = gt_text.split()\n",
    "    ocr_words = ocr_text.split()\n",
    "    total_words += len(gt_words)\n",
    "    correct_words += sum(1 for a, b in zip(gt_words, ocr_words) if a == b)\n",
    "\n",
    "# Calculate Character Accuracy (CA)\n",
    "character_accuracy = (correct_characters / total_characters) * 100\n",
    "\n",
    "# Calculate Word Accuracy (WA)\n",
    "word_accuracy = (correct_words / total_words) * 100\n",
    "\n",
    "# Calculate F-measure\n",
    "precision = correct_characters / (len(''.join(ocr_results)))\n",
    "recall = correct_characters / (len(''.join(ground_truth)))\n",
    "f_measure = (2 * precision * recall) / (precision + recall)\n",
    "\n",
    "# Print the results\n",
    "print(f\"Character Accuracy (CA): {character_accuracy:.2f}%\")\n",
    "print(f\"Word Accuracy (WA): {word_accuracy:.2f}%\")\n",
    "print(f\"F-measure: {f_measure:.2f}\")\n"
   ]
  },
  {
   "cell_type": "code",
   "execution_count": 4,
   "id": "f2479781",
   "metadata": {},
   "outputs": [
    {
     "name": "stdout",
     "output_type": "stream",
     "text": [
      "Collecting Levenshtein\n",
      "  Downloading Levenshtein-0.23.0-cp39-cp39-win_amd64.whl (101 kB)\n",
      "Collecting rapidfuzz<4.0.0,>=3.1.0\n",
      "  Downloading rapidfuzz-3.5.2-cp39-cp39-win_amd64.whl (1.7 MB)\n",
      "Installing collected packages: rapidfuzz, Levenshtein\n",
      "Successfully installed Levenshtein-0.23.0 rapidfuzz-3.5.2\n"
     ]
    }
   ],
   "source": [
    "!pip install Levenshtein "
   ]
  },
  {
   "cell_type": "code",
   "execution_count": null,
   "id": "ef98506c",
   "metadata": {},
   "outputs": [],
   "source": []
  }
 ],
 "metadata": {
  "kernelspec": {
   "display_name": "Python 3 (ipykernel)",
   "language": "python",
   "name": "python3"
  },
  "language_info": {
   "codemirror_mode": {
    "name": "ipython",
    "version": 3
   },
   "file_extension": ".py",
   "mimetype": "text/x-python",
   "name": "python",
   "nbconvert_exporter": "python",
   "pygments_lexer": "ipython3",
   "version": "3.9.12"
  }
 },
 "nbformat": 4,
 "nbformat_minor": 5
}
